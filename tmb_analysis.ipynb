{
  "cells": [
    {
      "cell_type": "markdown",
      "metadata": {
        "id": "I727rdOVIP_a"
      },
      "source": [
        "# Analyzing Tumor Mutational Burden in .maf files\n",
        "\n",
        "Tumor mutational burden is the total number of mutations (changes) found in the DNA of cancer cells. Knowing the tumor mutational burden may help plan the best treatment. For example, tumors that have a high number of mutations appear to be more likely to respond to certain types of immunotherapy. Tumor mutational burden is being used as a type of biomarker. Also called TMB. (NIH National Cancer Institute)"
      ]
    },
    {
      "cell_type": "code",
      "execution_count": 1,
      "metadata": {
        "id": "rDymCGY2I8OI"
      },
      "outputs": [],
      "source": [
        "import pandas as pd\n",
        "import seaborn as sns\n",
        "import matplotlib.pyplot as plt"
      ]
    },
    {
      "cell_type": "code",
      "execution_count": 2,
      "metadata": {
        "id": "FZl2RZqfJEfs"
      },
      "outputs": [],
      "source": [
        "dcr = pd.read_csv(\"/content/drive/MyDrive/colab_notebooks/data/wxs_filter_onlytsb_2.maf\", sep = \"\\t\")\n",
        "dcr_tenremoved = pd.read_csv(\"/content/drive/MyDrive/colab_notebooks/data/wxs_filter_tenremoved_tsb.maf\", sep = \"\\t\")"
      ]
    },
    {
      "cell_type": "code",
      "source": [
        "dcr_tenremoved_mutcounts = dcr_tenremoved.groupby(\"Tumor_Sample_Barcode\").size()\n",
        "dcr_tenremoved_tmb = dcr_tenremoved_mutcounts / 30"
      ],
      "metadata": {
        "id": "5jUYr0yDynve"
      },
      "execution_count": 3,
      "outputs": []
    },
    {
      "cell_type": "code",
      "source": [
        "dcr_tenremoved_tmb"
      ],
      "metadata": {
        "colab": {
          "base_uri": "https://localhost:8080/",
          "height": 429
        },
        "id": "4g820JK3y1Oz",
        "outputId": "e83bc6aa-db37-48e1-b114-c5e4670ea884"
      },
      "execution_count": 4,
      "outputs": [
        {
          "output_type": "execute_result",
          "data": {
            "text/plain": [
              "Tumor_Sample_Barcode\n",
              "DCR0003_TA    211.533333\n",
              "DCR0011_TA      6.866667\n",
              "DCR0027_TA    387.933333\n",
              "DCR002_TA      22.633333\n",
              "DCR0045_TA     48.033333\n",
              "DCR0056_TA    131.900000\n",
              "DCR090_TA     101.233333\n",
              "DCR102_TA      13.766667\n",
              "DCR103_TA       0.700000\n",
              "DCR105_TA     505.033333\n",
              "dtype: float64"
            ],
            "text/html": [
              "<div>\n",
              "<style scoped>\n",
              "    .dataframe tbody tr th:only-of-type {\n",
              "        vertical-align: middle;\n",
              "    }\n",
              "\n",
              "    .dataframe tbody tr th {\n",
              "        vertical-align: top;\n",
              "    }\n",
              "\n",
              "    .dataframe thead th {\n",
              "        text-align: right;\n",
              "    }\n",
              "</style>\n",
              "<table border=\"1\" class=\"dataframe\">\n",
              "  <thead>\n",
              "    <tr style=\"text-align: right;\">\n",
              "      <th></th>\n",
              "      <th>0</th>\n",
              "    </tr>\n",
              "    <tr>\n",
              "      <th>Tumor_Sample_Barcode</th>\n",
              "      <th></th>\n",
              "    </tr>\n",
              "  </thead>\n",
              "  <tbody>\n",
              "    <tr>\n",
              "      <th>DCR0003_TA</th>\n",
              "      <td>211.533333</td>\n",
              "    </tr>\n",
              "    <tr>\n",
              "      <th>DCR0011_TA</th>\n",
              "      <td>6.866667</td>\n",
              "    </tr>\n",
              "    <tr>\n",
              "      <th>DCR0027_TA</th>\n",
              "      <td>387.933333</td>\n",
              "    </tr>\n",
              "    <tr>\n",
              "      <th>DCR002_TA</th>\n",
              "      <td>22.633333</td>\n",
              "    </tr>\n",
              "    <tr>\n",
              "      <th>DCR0045_TA</th>\n",
              "      <td>48.033333</td>\n",
              "    </tr>\n",
              "    <tr>\n",
              "      <th>DCR0056_TA</th>\n",
              "      <td>131.900000</td>\n",
              "    </tr>\n",
              "    <tr>\n",
              "      <th>DCR090_TA</th>\n",
              "      <td>101.233333</td>\n",
              "    </tr>\n",
              "    <tr>\n",
              "      <th>DCR102_TA</th>\n",
              "      <td>13.766667</td>\n",
              "    </tr>\n",
              "    <tr>\n",
              "      <th>DCR103_TA</th>\n",
              "      <td>0.700000</td>\n",
              "    </tr>\n",
              "    <tr>\n",
              "      <th>DCR105_TA</th>\n",
              "      <td>505.033333</td>\n",
              "    </tr>\n",
              "  </tbody>\n",
              "</table>\n",
              "</div><br><label><b>dtype:</b> float64</label>"
            ]
          },
          "metadata": {},
          "execution_count": 4
        }
      ]
    },
    {
      "cell_type": "markdown",
      "metadata": {
        "id": "jpxsP67pFA8Q"
      },
      "source": [
        "Maybe I need to filter more of the introns and stuff out. One article said"
      ]
    },
    {
      "cell_type": "code",
      "execution_count": 5,
      "metadata": {
        "id": "n93aLp7XJrEl"
      },
      "outputs": [],
      "source": [
        "dcr_mutcounts = dcr.groupby(\"Tumor_Sample_Barcode\").size() # series of mutation counts for each sample\n",
        "dcr_tmb = dcr_mutcounts / 30"
      ]
    },
    {
      "cell_type": "code",
      "execution_count": 6,
      "metadata": {
        "colab": {
          "base_uri": "https://localhost:8080/",
          "height": 429
        },
        "id": "38uPNEuP89-G",
        "outputId": "c82c016b-538b-4700-e168-c220d9eebd6a"
      },
      "outputs": [
        {
          "output_type": "execute_result",
          "data": {
            "text/plain": [
              "Tumor_Sample_Barcode\n",
              "DCR0003_TA    1770.533333\n",
              "DCR0011_TA     570.600000\n",
              "DCR0027_TA    2670.500000\n",
              "DCR002_TA      256.033333\n",
              "DCR0045_TA     617.566667\n",
              "DCR0056_TA    1209.366667\n",
              "DCR090_TA      861.833333\n",
              "DCR102_TA      114.866667\n",
              "DCR103_TA        6.033333\n",
              "DCR105_TA     4025.666667\n",
              "dtype: float64"
            ],
            "text/html": [
              "<div>\n",
              "<style scoped>\n",
              "    .dataframe tbody tr th:only-of-type {\n",
              "        vertical-align: middle;\n",
              "    }\n",
              "\n",
              "    .dataframe tbody tr th {\n",
              "        vertical-align: top;\n",
              "    }\n",
              "\n",
              "    .dataframe thead th {\n",
              "        text-align: right;\n",
              "    }\n",
              "</style>\n",
              "<table border=\"1\" class=\"dataframe\">\n",
              "  <thead>\n",
              "    <tr style=\"text-align: right;\">\n",
              "      <th></th>\n",
              "      <th>0</th>\n",
              "    </tr>\n",
              "    <tr>\n",
              "      <th>Tumor_Sample_Barcode</th>\n",
              "      <th></th>\n",
              "    </tr>\n",
              "  </thead>\n",
              "  <tbody>\n",
              "    <tr>\n",
              "      <th>DCR0003_TA</th>\n",
              "      <td>1770.533333</td>\n",
              "    </tr>\n",
              "    <tr>\n",
              "      <th>DCR0011_TA</th>\n",
              "      <td>570.600000</td>\n",
              "    </tr>\n",
              "    <tr>\n",
              "      <th>DCR0027_TA</th>\n",
              "      <td>2670.500000</td>\n",
              "    </tr>\n",
              "    <tr>\n",
              "      <th>DCR002_TA</th>\n",
              "      <td>256.033333</td>\n",
              "    </tr>\n",
              "    <tr>\n",
              "      <th>DCR0045_TA</th>\n",
              "      <td>617.566667</td>\n",
              "    </tr>\n",
              "    <tr>\n",
              "      <th>DCR0056_TA</th>\n",
              "      <td>1209.366667</td>\n",
              "    </tr>\n",
              "    <tr>\n",
              "      <th>DCR090_TA</th>\n",
              "      <td>861.833333</td>\n",
              "    </tr>\n",
              "    <tr>\n",
              "      <th>DCR102_TA</th>\n",
              "      <td>114.866667</td>\n",
              "    </tr>\n",
              "    <tr>\n",
              "      <th>DCR103_TA</th>\n",
              "      <td>6.033333</td>\n",
              "    </tr>\n",
              "    <tr>\n",
              "      <th>DCR105_TA</th>\n",
              "      <td>4025.666667</td>\n",
              "    </tr>\n",
              "  </tbody>\n",
              "</table>\n",
              "</div><br><label><b>dtype:</b> float64</label>"
            ]
          },
          "metadata": {},
          "execution_count": 6
        }
      ],
      "source": [
        "dcr_tmb"
      ]
    },
    {
      "cell_type": "code",
      "source": [
        "# graph the Native Hawaiian CRC tmb\n",
        "plt.bar(x=dcr_tmb.index, height=dcr_tmb)"
      ],
      "metadata": {
        "colab": {
          "base_uri": "https://localhost:8080/",
          "height": 448
        },
        "id": "8cH3eNiJnLKs",
        "outputId": "a9ff3b94-e442-4890-92cb-a4505496eae8"
      },
      "execution_count": 7,
      "outputs": [
        {
          "output_type": "execute_result",
          "data": {
            "text/plain": [
              "<BarContainer object of 10 artists>"
            ]
          },
          "metadata": {},
          "execution_count": 7
        },
        {
          "output_type": "display_data",
          "data": {
            "text/plain": [
              "<Figure size 640x480 with 1 Axes>"
            ],
            "image/png": "[encoded data removed]"
          },
          "metadata": {}
        }
      ]
    },
    {
      "cell_type": "code",
      "source": [
        "coad_tcga = pd.read_csv(\"/content/drive/MyDrive/colab_notebooks/data/tcga_maf/coad_tcga.maf\", sep=\"\\t\")"
      ],
      "metadata": {
        "id": "9OjQhYEESvdL"
      },
      "execution_count": 8,
      "outputs": []
    },
    {
      "cell_type": "code",
      "source": [
        "coad_tcga.groupby(\"Variant_Classification\").size()"
      ],
      "metadata": {
        "colab": {
          "base_uri": "https://localhost:8080/",
          "height": 398
        },
        "id": "jHxsaG2qS2DT",
        "outputId": "ac16ffb6-93b9-47e4-b9ea-58d8e775b3c8"
      },
      "execution_count": 9,
      "outputs": [
        {
          "output_type": "execute_result",
          "data": {
            "text/plain": [
              "Variant_Classification\n",
              "Frame_Shift_Del            13784\n",
              "Frame_Shift_Ins             3657\n",
              "In_Frame_Del                1243\n",
              "In_Frame_Ins                  88\n",
              "Missense_Mutation         137248\n",
              "Nonsense_Mutation          10417\n",
              "Nonstop_Mutation             113\n",
              "Splice_Site                 3160\n",
              "Translation_Start_Site       168\n",
              "dtype: int64"
            ],
            "text/html": [
              "<div>\n",
              "<style scoped>\n",
              "    .dataframe tbody tr th:only-of-type {\n",
              "        vertical-align: middle;\n",
              "    }\n",
              "\n",
              "    .dataframe tbody tr th {\n",
              "        vertical-align: top;\n",
              "    }\n",
              "\n",
              "    .dataframe thead th {\n",
              "        text-align: right;\n",
              "    }\n",
              "</style>\n",
              "<table border=\"1\" class=\"dataframe\">\n",
              "  <thead>\n",
              "    <tr style=\"text-align: right;\">\n",
              "      <th></th>\n",
              "      <th>0</th>\n",
              "    </tr>\n",
              "    <tr>\n",
              "      <th>Variant_Classification</th>\n",
              "      <th></th>\n",
              "    </tr>\n",
              "  </thead>\n",
              "  <tbody>\n",
              "    <tr>\n",
              "      <th>Frame_Shift_Del</th>\n",
              "      <td>13784</td>\n",
              "    </tr>\n",
              "    <tr>\n",
              "      <th>Frame_Shift_Ins</th>\n",
              "      <td>3657</td>\n",
              "    </tr>\n",
              "    <tr>\n",
              "      <th>In_Frame_Del</th>\n",
              "      <td>1243</td>\n",
              "    </tr>\n",
              "    <tr>\n",
              "      <th>In_Frame_Ins</th>\n",
              "      <td>88</td>\n",
              "    </tr>\n",
              "    <tr>\n",
              "      <th>Missense_Mutation</th>\n",
              "      <td>137248</td>\n",
              "    </tr>\n",
              "    <tr>\n",
              "      <th>Nonsense_Mutation</th>\n",
              "      <td>10417</td>\n",
              "    </tr>\n",
              "    <tr>\n",
              "      <th>Nonstop_Mutation</th>\n",
              "      <td>113</td>\n",
              "    </tr>\n",
              "    <tr>\n",
              "      <th>Splice_Site</th>\n",
              "      <td>3160</td>\n",
              "    </tr>\n",
              "    <tr>\n",
              "      <th>Translation_Start_Site</th>\n",
              "      <td>168</td>\n",
              "    </tr>\n",
              "  </tbody>\n",
              "</table>\n",
              "</div><br><label><b>dtype:</b> int64</label>"
            ]
          },
          "metadata": {},
          "execution_count": 9
        }
      ]
    },
    {
      "cell_type": "markdown",
      "metadata": {
        "id": "ce2jgB_7CfI0"
      },
      "source": [
        "### Importing TCGA maf data"
      ]
    },
    {
      "cell_type": "code",
      "execution_count": 10,
      "metadata": {
        "id": "V4-u9Anu3rdk"
      },
      "outputs": [],
      "source": [
        "# import tcga data\n",
        "coad_tcga = pd.read_csv(\"/content/drive/MyDrive/colab_notebooks/data/tcga_maf/coad_tcga.maf\", sep=\"\\t\")\n",
        "coad_clinical = pd.read_csv(\"/content/drive/MyDrive/colab_notebooks/data/tcga_maf/clinical_coad_tcga.csv\")\n",
        "# white_tcga = pd.read_csv(\"/content/drive/MyDrive/colab_notebooks/data/tcga_maf/white_tcga.maf\", sep=\"\\t\")\n",
        "# black_tcga = pd.read_csv(\"/content/drive/MyDrive/colab_notebooks/data/tcga_maf/black_tcga.maf\", sep=\"\\t\")\n",
        "# asian_tcga = pd.read_csv(\"/content/drive/MyDrive/colab_notebooks/data/tcga_maf/asian_tcga.maf\", sep=\"\\t\")"
      ]
    },
    {
      "cell_type": "markdown",
      "source": [
        "Split the coad_tcga dataframe of mutations into"
      ],
      "metadata": {
        "id": "UujsZoQQC5M6"
      }
    },
    {
      "cell_type": "code",
      "source": [
        "grouped = coad_clinical.groupby(\"CDR_race\")[\"Tumor_Sample_Barcode\"].agg(list)\n",
        "\n",
        "# Initialize an empty dictionary to store subsets\n",
        "subsetted_dfs = {}\n",
        "\n",
        "# Iterate over each group\n",
        "for group, barcodes in grouped.items():\n",
        "    # Subset df_subset based on the list of barcodes\n",
        "    subsetted_dfs[group] = coad_tcga[coad_tcga['Tumor_Sample_Barcode'].isin(barcodes)]"
      ],
      "metadata": {
        "id": "W1clPm2bCvV5"
      },
      "execution_count": 11,
      "outputs": []
    },
    {
      "cell_type": "code",
      "source": [
        "white_tcga = subsetted_dfs['WHITE']\n",
        "asian_tcga = subsetted_dfs['ASIAN']\n",
        "black_tcga = subsetted_dfs['BLACK OR AFRICAN AMERICAN']"
      ],
      "metadata": {
        "id": "c44c7eCwEIaL"
      },
      "execution_count": 12,
      "outputs": []
    },
    {
      "cell_type": "code",
      "source": [
        "# save subsetted dataframes again\n",
        "# white_tcga.to_csv(\"/content/drive/MyDrive/white_tcga.maf\", sep=\"\\t\", index=False)\n",
        "# asian_tcga.to_csv(\"asian_tcga.maf\", sep=\"\\t\", index=False)\n",
        "# black_tcga.to_csv(\"black_tcga.maf\", sep=\"\\t\", index=False)"
      ],
      "metadata": {
        "id": "j-c5BzflMkaX"
      },
      "execution_count": 13,
      "outputs": []
    },
    {
      "cell_type": "code",
      "execution_count": 14,
      "metadata": {
        "id": "GrNpv1qZDJIv"
      },
      "outputs": [],
      "source": [
        "white_tmb = white_tcga.groupby(\"Tumor_Sample_Barcode\").size() / 30\n",
        "black_tmb = black_tcga.groupby(\"Tumor_Sample_Barcode\").size() / 30\n",
        "asian_tmb = asian_tcga.groupby(\"Tumor_Sample_Barcode\").size() / 30\n",
        "coad_tmb = coad_tcga.groupby(\"Tumor_Sample_Barcode\").size() / 30"
      ]
    },
    {
      "cell_type": "code",
      "source": [
        "dcr_tenremoved_tmb.mean()"
      ],
      "metadata": {
        "id": "_88doof_W9qa",
        "outputId": "33058b94-e045-4521-fe7d-b70f75c4229a",
        "colab": {
          "base_uri": "https://localhost:8080/"
        }
      },
      "execution_count": 15,
      "outputs": [
        {
          "output_type": "execute_result",
          "data": {
            "text/plain": [
              "142.96333333333334"
            ]
          },
          "metadata": {},
          "execution_count": 15
        }
      ]
    },
    {
      "cell_type": "code",
      "execution_count": 22,
      "metadata": {
        "colab": {
          "base_uri": "https://localhost:8080/",
          "height": 472
        },
        "id": "Vk0gZtE9Fs8R",
        "outputId": "9141b441-fef9-4f2c-801c-d71b54f3c1a1"
      },
      "outputs": [
        {
          "output_type": "display_data",
          "data": {
            "text/plain": [
              "<Figure size 640x480 with 1 Axes>"
            ],
            "image/png": "[encoded data removed]"
          },
          "metadata": {}
        }
      ],
      "source": [
        "labels = ['Native Hawaiian', 'White', 'Black', 'Asian']\n",
        "plt.boxplot([dcr_tenremoved_tmb, white_tmb, black_tmb, asian_tmb], labels = labels)\n",
        "plt.xlabel(\"Race\")\n",
        "plt.ylabel(\"Tumor Mutational Burden\")\n",
        "_ = plt.title(\"TMB Values by Race\")"
      ]
    },
    {
      "cell_type": "markdown",
      "metadata": {
        "id": "4QTa1nWyLLlQ"
      },
      "source": [
        "## Statistical Analysis Attempt of Race Comparisons"
      ]
    },
    {
      "cell_type": "code",
      "source": [
        "# Kruskal-Wallis Test\n",
        "\n",
        "from scipy.stats import kruskal\n",
        "\n",
        "# Perform Kruskal-Wallis test\n",
        "statistic, p_value = kruskal(dcr_tenremoved_tmb, white_tmb, black_tmb, asian_tmb)\n",
        "\n",
        "# Print the results\n",
        "print(\"Kruskal-Wallis Test:\")\n",
        "print(f\"Statistic: {statistic}\")\n",
        "print(f\"P-value: {p_value}\")\n",
        "\n",
        "# Determine significance\n",
        "if p_value < 0.05:\n",
        "    print(\"The differences in TMB between racial groups are statistically significant.\")\n",
        "else:\n",
        "    print(\"There is no significant difference in TMB between racial groups.\")\n"
      ],
      "metadata": {
        "colab": {
          "base_uri": "https://localhost:8080/"
        },
        "id": "LEp6Gq3z0ZZv",
        "outputId": "b54a254e-5572-4145-d256-069931983f48"
      },
      "execution_count": 18,
      "outputs": [
        {
          "output_type": "stream",
          "name": "stdout",
          "text": [
            "Kruskal-Wallis Test:\n",
            "Statistic: 13.879858851016232\n",
            "P-value: 0.0030733312887692376\n",
            "The differences in TMB between racial groups are statistically significant.\n"
          ]
        }
      ]
    },
    {
      "cell_type": "markdown",
      "source": [
        "Welch's t-test: This is an adaptation of the t-test that does not assume equal variances between groups. It's more robust when sample sizes and variances are unequal."
      ],
      "metadata": {
        "id": "Tt2vUnjl1zAH"
      }
    },
    {
      "cell_type": "code",
      "source": [
        "# Welch's t-test for pairwise comparisons\n",
        "\n",
        "from scipy.stats import ttest_ind\n",
        "\n",
        "# Example data (replace with your TMB values)\n",
        "tmb_groups = [dcr_tenremoved_tmb, white_tmb, black_tmb, asian_tmb]\n",
        "\n",
        "# Perform pairwise comparisons using Welch's t-test\n",
        "welch_p_values = []\n",
        "for i in range(len(tmb_groups)):\n",
        "    for j in range(i+1, len(tmb_groups)):\n",
        "        group1 = tmb_groups[i]\n",
        "        group2 = tmb_groups[j]\n",
        "        t_stat, p_value = ttest_ind(group1, group2, equal_var=False)\n",
        "        print(f\"Comparison between group {i+1} and group {j+1}: p-value = {p_value}\")\n",
        "        welch_p_values.append(p_value)"
      ],
      "metadata": {
        "colab": {
          "base_uri": "https://localhost:8080/"
        },
        "id": "hcwlkKY41utl",
        "outputId": "cbf8fcd3-a1c1-4519-bf0f-22b355e39a58"
      },
      "execution_count": 19,
      "outputs": [
        {
          "output_type": "stream",
          "name": "stdout",
          "text": [
            "Comparison between group 1 and group 2: p-value = 0.044513507920267564\n",
            "Comparison between group 1 and group 3: p-value = 0.04064804612901149\n",
            "Comparison between group 1 and group 4: p-value = 0.1255477785651348\n",
            "Comparison between group 2 and group 3: p-value = 0.2839112969709942\n",
            "Comparison between group 2 and group 4: p-value = 0.3053307769159175\n",
            "Comparison between group 3 and group 4: p-value = 0.25947400047024394\n"
          ]
        }
      ]
    },
    {
      "cell_type": "markdown",
      "source": [
        "Mann-Whitney U test (Wilcoxon rank-sum test): This is a non-parametric test that does not require the data to be normally distributed. It compares the ranks of values between two groups and is suitable for unequal sample sizes."
      ],
      "metadata": {
        "id": "LGe8I8vI3CGU"
      }
    },
    {
      "cell_type": "code",
      "source": [
        "from scipy.stats import mannwhitneyu\n",
        "\n",
        "# Perform pairwise comparisons using Mann-Whitney U test\n",
        "mann_p_values = []\n",
        "for i in range(len(tmb_groups)):\n",
        "    for j in range(i+1, len(tmb_groups)):\n",
        "        group1 = tmb_groups[i]\n",
        "        group2 = tmb_groups[j]\n",
        "        stat, p_value = mannwhitneyu(group1, group2)\n",
        "        print(f\"Comparison between group {i+1} and group {j+1}: p-value = {p_value}\")\n",
        "        mann_p_values.append(p_value)"
      ],
      "metadata": {
        "colab": {
          "base_uri": "https://localhost:8080/"
        },
        "id": "n9fgGk6o3Fq8",
        "outputId": "95aa134a-eccc-487c-93bf-090cd21d8dd8"
      },
      "execution_count": 20,
      "outputs": [
        {
          "output_type": "stream",
          "name": "stdout",
          "text": [
            "Comparison between group 1 and group 2: p-value = 0.00029841853698174114\n",
            "Comparison between group 1 and group 3: p-value = 0.0005034713386463471\n",
            "Comparison between group 1 and group 4: p-value = 0.03774297659258332\n",
            "Comparison between group 2 and group 3: p-value = 0.39844697265230467\n",
            "Comparison between group 2 and group 4: p-value = 0.8375555394780826\n",
            "Comparison between group 3 and group 4: p-value = 0.5146342142691369\n"
          ]
        }
      ]
    },
    {
      "cell_type": "code",
      "source": [
        "# generate dataframes for illustrating significance:\n",
        "\n",
        "import pandas as pd\n",
        "from scipy.stats import ttest_ind, mannwhitneyu\n",
        "\n",
        "df = {\n",
        "    \"Group 1\": [\"Native Hawaiian\", \"Native Hawaiian\", \"Native Hawaiian\", \"White\", \"White\", \"Black\"],\n",
        "    \"Group 2\": [\"White\", \"Black\", \"Asian\", \"Black\", \"Asian\", \"Asian\"],\n",
        "    \"Welch's t-test\": welch_p_values,\n",
        "    \"MWU\": mann_p_values\n",
        "}\n",
        "\n",
        "tmb_table = pd.DataFrame(df)\n",
        "tmb_table"
      ],
      "metadata": {
        "colab": {
          "base_uri": "https://localhost:8080/",
          "height": 238
        },
        "id": "K1Cldg2KCNdt",
        "outputId": "b530d7e5-8c6d-4e83-fb0f-000b2f40d473"
      },
      "execution_count": 21,
      "outputs": [
        {
          "output_type": "execute_result",
          "data": {
            "text/plain": [
              "           Group 1 Group 2  Welch's t-test       MWU\n",
              "0  Native Hawaiian   White        0.044514  0.000298\n",
              "1  Native Hawaiian   Black        0.040648  0.000503\n",
              "2  Native Hawaiian   Asian        0.125548  0.037743\n",
              "3            White   Black        0.283911  0.398447\n",
              "4            White   Asian        0.305331  0.837556\n",
              "5            Black   Asian        0.259474  0.514634"
            ],
            "text/html": [
              "\n",
              "  <div id=\"df-0d582d65-3837-48e4-8b33-cfa098fe7331\" class=\"colab-df-container\">\n",
              "    <div>\n",
              "<style scoped>\n",
              "    .dataframe tbody tr th:only-of-type {\n",
              "        vertical-align: middle;\n",
              "    }\n",
              "\n",
              "    .dataframe tbody tr th {\n",
              "        vertical-align: top;\n",
              "    }\n",
              "\n",
              "    .dataframe thead th {\n",
              "        text-align: right;\n",
              "    }\n",
              "</style>\n",
              "<table border=\"1\" class=\"dataframe\">\n",
              "  <thead>\n",
              "    <tr style=\"text-align: right;\">\n",
              "      <th></th>\n",
              "      <th>Group 1</th>\n",
              "      <th>Group 2</th>\n",
              "      <th>Welch's t-test</th>\n",
              "      <th>MWU</th>\n",
              "    </tr>\n",
              "  </thead>\n",
              "  <tbody>\n",
              "    <tr>\n",
              "      <th>0</th>\n",
              "      <td>Native Hawaiian</td>\n",
              "      <td>White</td>\n",
              "      <td>0.044514</td>\n",
              "      <td>0.000298</td>\n",
              "    </tr>\n",
              "    <tr>\n",
              "      <th>1</th>\n",
              "      <td>Native Hawaiian</td>\n",
              "      <td>Black</td>\n",
              "      <td>0.040648</td>\n",
              "      <td>0.000503</td>\n",
              "    </tr>\n",
              "    <tr>\n",
              "      <th>2</th>\n",
              "      <td>Native Hawaiian</td>\n",
              "      <td>Asian</td>\n",
              "      <td>0.125548</td>\n",
              "      <td>0.037743</td>\n",
              "    </tr>\n",
              "    <tr>\n",
              "      <th>3</th>\n",
              "      <td>White</td>\n",
              "      <td>Black</td>\n",
              "      <td>0.283911</td>\n",
              "      <td>0.398447</td>\n",
              "    </tr>\n",
              "    <tr>\n",
              "      <th>4</th>\n",
              "      <td>White</td>\n",
              "      <td>Asian</td>\n",
              "      <td>0.305331</td>\n",
              "      <td>0.837556</td>\n",
              "    </tr>\n",
              "    <tr>\n",
              "      <th>5</th>\n",
              "      <td>Black</td>\n",
              "      <td>Asian</td>\n",
              "      <td>0.259474</td>\n",
              "      <td>0.514634</td>\n",
              "    </tr>\n",
              "  </tbody>\n",
              "</table>\n",
              "</div>\n",
              "    <div class=\"colab-df-buttons\">\n",
              "\n",
              "  <div class=\"colab-df-container\">\n",
              "    <button class=\"colab-df-convert\" onclick=\"convertToInteractive('df-0d582d65-3837-48e4-8b33-cfa098fe7331')\"\n",
              "            title=\"Convert this dataframe to an interactive table.\"\n",
              "            style=\"display:none;\">\n",
              "\n",
              "  <svg xmlns=\"http://www.w3.org/2000/svg\" height=\"24px\" viewBox=\"0 -960 960 960\">\n",
              "    <path d=\"M120-120v-720h720v720H120Zm60-500h600v-160H180v160Zm220 220h160v-160H400v160Zm0 220h160v-160H400v160ZM180-400h160v-160H180v160Zm440 0h160v-160H620v160ZM180-180h160v-160H180v160Zm440 0h160v-160H620v160Z\"/>\n",
              "  </svg>\n",
              "    </button>\n",
              "\n",
              "  <style>\n",
              "    .colab-df-container {\n",
              "      display:flex;\n",
              "      gap: 12px;\n",
              "    }\n",
              "\n",
              "    .colab-df-convert {\n",
              "      background-color: #E8F0FE;\n",
              "      border: none;\n",
              "      border-radius: 50%;\n",
              "      cursor: pointer;\n",
              "      display: none;\n",
              "      fill: #1967D2;\n",
              "      height: 32px;\n",
              "      padding: 0 0 0 0;\n",
              "      width: 32px;\n",
              "    }\n",
              "\n",
              "    .colab-df-convert:hover {\n",
              "      background-color: #E2EBFA;\n",
              "      box-shadow: 0px 1px 2px rgba(60, 64, 67, 0.3), 0px 1px 3px 1px rgba(60, 64, 67, 0.15);\n",
              "      fill: #174EA6;\n",
              "    }\n",
              "\n",
              "    .colab-df-buttons div {\n",
              "      margin-bottom: 4px;\n",
              "    }\n",
              "\n",
              "    [theme=dark] .colab-df-convert {\n",
              "      background-color: #3B4455;\n",
              "      fill: #D2E3FC;\n",
              "    }\n",
              "\n",
              "    [theme=dark] .colab-df-convert:hover {\n",
              "      background-color: #434B5C;\n",
              "      box-shadow: 0px 1px 3px 1px rgba(0, 0, 0, 0.15);\n",
              "      filter: drop-shadow(0px 1px 2px rgba(0, 0, 0, 0.3));\n",
              "      fill: #FFFFFF;\n",
              "    }\n",
              "  </style>\n",
              "\n",
              "    <script>\n",
              "      const buttonEl =\n",
              "        document.querySelector('#df-0d582d65-3837-48e4-8b33-cfa098fe7331 button.colab-df-convert');\n",
              "      buttonEl.style.display =\n",
              "        google.colab.kernel.accessAllowed ? 'block' : 'none';\n",
              "\n",
              "      async function convertToInteractive(key) {\n",
              "        const element = document.querySelector('#df-0d582d65-3837-48e4-8b33-cfa098fe7331');\n",
              "        const dataTable =\n",
              "          await google.colab.kernel.invokeFunction('convertToInteractive',\n",
              "                                                    [key], {});\n",
              "        if (!dataTable) return;\n",
              "\n",
              "        const docLinkHtml = 'Like what you see? Visit the ' +\n",
              "          '<a target=\"_blank\" href=https://colab.research.google.com/notebooks/data_table.ipynb>data table notebook</a>'\n",
              "          + ' to learn more about interactive tables.';\n",
              "        element.innerHTML = '';\n",
              "        dataTable['output_type'] = 'display_data';\n",
              "        await google.colab.output.renderOutput(dataTable, element);\n",
              "        const docLink = document.createElement('div');\n",
              "        docLink.innerHTML = docLinkHtml;\n",
              "        element.appendChild(docLink);\n",
              "      }\n",
              "    </script>\n",
              "  </div>\n",
              "\n",
              "\n",
              "<div id=\"df-295fd7c2-9543-4a99-bce6-b8ab14f08e1a\">\n",
              "  <button class=\"colab-df-quickchart\" onclick=\"quickchart('df-295fd7c2-9543-4a99-bce6-b8ab14f08e1a')\"\n",
              "            title=\"Suggest charts\"\n",
              "            style=\"display:none;\">\n",
              "\n",
              "<svg xmlns=\"http://www.w3.org/2000/svg\" height=\"24px\"viewBox=\"0 0 24 24\"\n",
              "     width=\"24px\">\n",
              "    <g>\n",
              "        <path d=\"M19 3H5c-1.1 0-2 .9-2 2v14c0 1.1.9 2 2 2h14c1.1 0 2-.9 2-2V5c0-1.1-.9-2-2-2zM9 17H7v-7h2v7zm4 0h-2V7h2v10zm4 0h-2v-4h2v4z\"/>\n",
              "    </g>\n",
              "</svg>\n",
              "  </button>\n",
              "\n",
              "<style>\n",
              "  .colab-df-quickchart {\n",
              "      --bg-color: #E8F0FE;\n",
              "      --fill-color: #1967D2;\n",
              "      --hover-bg-color: #E2EBFA;\n",
              "      --hover-fill-color: #174EA6;\n",
              "      --disabled-fill-color: #AAA;\n",
              "      --disabled-bg-color: #DDD;\n",
              "  }\n",
              "\n",
              "  [theme=dark] .colab-df-quickchart {\n",
              "      --bg-color: #3B4455;\n",
              "      --fill-color: #D2E3FC;\n",
              "      --hover-bg-color: #434B5C;\n",
              "      --hover-fill-color: #FFFFFF;\n",
              "      --disabled-bg-color: #3B4455;\n",
              "      --disabled-fill-color: #666;\n",
              "  }\n",
              "\n",
              "  .colab-df-quickchart {\n",
              "    background-color: var(--bg-color);\n",
              "    border: none;\n",
              "    border-radius: 50%;\n",
              "    cursor: pointer;\n",
              "    display: none;\n",
              "    fill: var(--fill-color);\n",
              "    height: 32px;\n",
              "    padding: 0;\n",
              "    width: 32px;\n",
              "  }\n",
              "\n",
              "  .colab-df-quickchart:hover {\n",
              "    background-color: var(--hover-bg-color);\n",
              "    box-shadow: 0 1px 2px rgba(60, 64, 67, 0.3), 0 1px 3px 1px rgba(60, 64, 67, 0.15);\n",
              "    fill: var(--button-hover-fill-color);\n",
              "  }\n",
              "\n",
              "  .colab-df-quickchart-complete:disabled,\n",
              "  .colab-df-quickchart-complete:disabled:hover {\n",
              "    background-color: var(--disabled-bg-color);\n",
              "    fill: var(--disabled-fill-color);\n",
              "    box-shadow: none;\n",
              "  }\n",
              "\n",
              "  .colab-df-spinner {\n",
              "    border: 2px solid var(--fill-color);\n",
              "    border-color: transparent;\n",
              "    border-bottom-color: var(--fill-color);\n",
              "    animation:\n",
              "      spin 1s steps(1) infinite;\n",
              "  }\n",
              "\n",
              "  @keyframes spin {\n",
              "    0% {\n",
              "      border-color: transparent;\n",
              "      border-bottom-color: var(--fill-color);\n",
              "      border-left-color: var(--fill-color);\n",
              "    }\n",
              "    20% {\n",
              "      border-color: transparent;\n",
              "      border-left-color: var(--fill-color);\n",
              "      border-top-color: var(--fill-color);\n",
              "    }\n",
              "    30% {\n",
              "      border-color: transparent;\n",
              "      border-left-color: var(--fill-color);\n",
              "      border-top-color: var(--fill-color);\n",
              "      border-right-color: var(--fill-color);\n",
              "    }\n",
              "    40% {\n",
              "      border-color: transparent;\n",
              "      border-right-color: var(--fill-color);\n",
              "      border-top-color: var(--fill-color);\n",
              "    }\n",
              "    60% {\n",
              "      border-color: transparent;\n",
              "      border-right-color: var(--fill-color);\n",
              "    }\n",
              "    80% {\n",
              "      border-color: transparent;\n",
              "      border-right-color: var(--fill-color);\n",
              "      border-bottom-color: var(--fill-color);\n",
              "    }\n",
              "    90% {\n",
              "      border-color: transparent;\n",
              "      border-bottom-color: var(--fill-color);\n",
              "    }\n",
              "  }\n",
              "</style>\n",
              "\n",
              "  <script>\n",
              "    async function quickchart(key) {\n",
              "      const quickchartButtonEl =\n",
              "        document.querySelector('#' + key + ' button');\n",
              "      quickchartButtonEl.disabled = true;  // To prevent multiple clicks.\n",
              "      quickchartButtonEl.classList.add('colab-df-spinner');\n",
              "      try {\n",
              "        const charts = await google.colab.kernel.invokeFunction(\n",
              "            'suggestCharts', [key], {});\n",
              "      } catch (error) {\n",
              "        console.error('Error during call to suggestCharts:', error);\n",
              "      }\n",
              "      quickchartButtonEl.classList.remove('colab-df-spinner');\n",
              "      quickchartButtonEl.classList.add('colab-df-quickchart-complete');\n",
              "    }\n",
              "    (() => {\n",
              "      let quickchartButtonEl =\n",
              "        document.querySelector('#df-295fd7c2-9543-4a99-bce6-b8ab14f08e1a button');\n",
              "      quickchartButtonEl.style.display =\n",
              "        google.colab.kernel.accessAllowed ? 'block' : 'none';\n",
              "    })();\n",
              "  </script>\n",
              "</div>\n",
              "\n",
              "  <div id=\"id_22c1034e-f960-489f-bb27-65b460b9f189\">\n",
              "    <style>\n",
              "      .colab-df-generate {\n",
              "        background-color: #E8F0FE;\n",
              "        border: none;\n",
              "        border-radius: 50%;\n",
              "        cursor: pointer;\n",
              "        display: none;\n",
              "        fill: #1967D2;\n",
              "        height: 32px;\n",
              "        padding: 0 0 0 0;\n",
              "        width: 32px;\n",
              "      }\n",
              "\n",
              "      .colab-df-generate:hover {\n",
              "        background-color: #E2EBFA;\n",
              "        box-shadow: 0px 1px 2px rgba(60, 64, 67, 0.3), 0px 1px 3px 1px rgba(60, 64, 67, 0.15);\n",
              "        fill: #174EA6;\n",
              "      }\n",
              "\n",
              "      [theme=dark] .colab-df-generate {\n",
              "        background-color: #3B4455;\n",
              "        fill: #D2E3FC;\n",
              "      }\n",
              "\n",
              "      [theme=dark] .colab-df-generate:hover {\n",
              "        background-color: #434B5C;\n",
              "        box-shadow: 0px 1px 3px 1px rgba(0, 0, 0, 0.15);\n",
              "        filter: drop-shadow(0px 1px 2px rgba(0, 0, 0, 0.3));\n",
              "        fill: #FFFFFF;\n",
              "      }\n",
              "    </style>\n",
              "    <button class=\"colab-df-generate\" onclick=\"generateWithVariable('tmb_table')\"\n",
              "            title=\"Generate code using this dataframe.\"\n",
              "            style=\"display:none;\">\n",
              "\n",
              "  <svg xmlns=\"http://www.w3.org/2000/svg\" height=\"24px\"viewBox=\"0 0 24 24\"\n",
              "       width=\"24px\">\n",
              "    <path d=\"M7,19H8.4L18.45,9,17,7.55,7,17.6ZM5,21V16.75L18.45,3.32a2,2,0,0,1,2.83,0l1.4,1.43a1.91,1.91,0,0,1,.58,1.4,1.91,1.91,0,0,1-.58,1.4L9.25,21ZM18.45,9,17,7.55Zm-12,3A5.31,5.31,0,0,0,4.9,8.1,5.31,5.31,0,0,0,1,6.5,5.31,5.31,0,0,0,4.9,4.9,5.31,5.31,0,0,0,6.5,1,5.31,5.31,0,0,0,8.1,4.9,5.31,5.31,0,0,0,12,6.5,5.46,5.46,0,0,0,6.5,12Z\"/>\n",
              "  </svg>\n",
              "    </button>\n",
              "    <script>\n",
              "      (() => {\n",
              "      const buttonEl =\n",
              "        document.querySelector('#id_22c1034e-f960-489f-bb27-65b460b9f189 button.colab-df-generate');\n",
              "      buttonEl.style.display =\n",
              "        google.colab.kernel.accessAllowed ? 'block' : 'none';\n",
              "\n",
              "      buttonEl.onclick = () => {\n",
              "        google.colab.notebook.generateWithVariable('tmb_table');\n",
              "      }\n",
              "      })();\n",
              "    </script>\n",
              "  </div>\n",
              "\n",
              "    </div>\n",
              "  </div>\n"
            ],
            "application/vnd.google.colaboratory.intrinsic+json": {
              "type": "dataframe",
              "variable_name": "tmb_table",
              "summary": "{\n  \"name\": \"tmb_table\",\n  \"rows\": 6,\n  \"fields\": [\n    {\n      \"column\": \"Group 1\",\n      \"properties\": {\n        \"dtype\": \"string\",\n        \"num_unique_values\": 3,\n        \"samples\": [\n          \"Native Hawaiian\",\n          \"White\",\n          \"Black\"\n        ],\n        \"semantic_type\": \"\",\n        \"description\": \"\"\n      }\n    },\n    {\n      \"column\": \"Group 2\",\n      \"properties\": {\n        \"dtype\": \"string\",\n        \"num_unique_values\": 3,\n        \"samples\": [\n          \"White\",\n          \"Black\",\n          \"Asian\"\n        ],\n        \"semantic_type\": \"\",\n        \"description\": \"\"\n      }\n    },\n    {\n      \"column\": \"Welch's t-test\",\n      \"properties\": {\n        \"dtype\": \"number\",\n        \"std\": 0.1212365676857964,\n        \"min\": 0.04064804612901149,\n        \"max\": 0.3053307769159175,\n        \"num_unique_values\": 6,\n        \"samples\": [\n          0.044513507920267564,\n          0.04064804612901149,\n          0.25947400047024394\n        ],\n        \"semantic_type\": \"\",\n        \"description\": \"\"\n      }\n    },\n    {\n      \"column\": \"MWU\",\n      \"properties\": {\n        \"dtype\": \"number\",\n        \"std\": 0.34438468577999015,\n        \"min\": 0.00029841853698174114,\n        \"max\": 0.8375555394780826,\n        \"num_unique_values\": 6,\n        \"samples\": [\n          0.00029841853698174114,\n          0.0005034713386463471,\n          0.5146342142691369\n        ],\n        \"semantic_type\": \"\",\n        \"description\": \"\"\n      }\n    }\n  ]\n}"
            }
          },
          "metadata": {},
          "execution_count": 21
        }
      ]
    }
  ],
  "metadata": {
    "colab": {
      "provenance": []
    },
    "kernelspec": {
      "display_name": "Python 3",
      "name": "python3"
    },
    "language_info": {
      "name": "python"
    }
  },
  "nbformat": 4,
  "nbformat_minor": 0
}